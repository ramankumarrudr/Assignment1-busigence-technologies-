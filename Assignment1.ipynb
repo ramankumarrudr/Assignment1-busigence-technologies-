{
  "nbformat": 4,
  "nbformat_minor": 0,
  "metadata": {
    "colab": {
      "name": "Assignment1.ipynb",
      "version": "0.3.2",
      "provenance": [],
      "collapsed_sections": [],
      "toc_visible": true,
      "include_colab_link": true
    },
    "kernelspec": {
      "name": "python3",
      "display_name": "Python 3"
    }
  },
  "cells": [
    {
      "cell_type": "markdown",
      "metadata": {
        "id": "view-in-github",
        "colab_type": "text"
      },
      "source": [
        "<a href=\"https://colab.research.google.com/github/ramankumarrudr/Assignment1-busigence-technologies-/blob/master/Assignment1.ipynb\" target=\"_parent\"><img src=\"https://colab.research.google.com/assets/colab-badge.svg\" alt=\"Open In Colab\"/></a>"
      ]
    },
    {
      "cell_type": "markdown",
      "metadata": {
        "id": "6-OV_vriraYr",
        "colab_type": "text"
      },
      "source": [
        "# Assignment1(Busigence Technologies)\n",
        "This project is a classification problem,Where the model is trained to predict the category of the given image based on the shape and structure in the image.\n",
        "\n",
        "---\n",
        "Class Directories are considered as class lables.\n",
        "- 4 class lables :\n",
        "\n",
        "*   category1\n",
        "*   category2\n",
        "*   category3\n",
        "*   category4\n",
        "\n",
        "\n",
        "\n",
        "---\n",
        "\n",
        "Using Tensorflow and Keras as core for classification.\n",
        "\n",
        "##Model\n",
        "\n",
        "Bulding convolution neural network for classification.\n",
        "\n",
        "\n",
        "\n",
        "\n",
        "---\n",
        "\n",
        "###Kaggle(DB)\n",
        "The Images_2.zip file is uploaded as kaggle dataset in my account and it is called into the colab using kagle api.\n",
        "\n",
        "\n",
        "\n",
        "\n"
      ]
    },
    {
      "cell_type": "code",
      "metadata": {
        "id": "9pTnL22kZMe5",
        "colab_type": "code",
        "outputId": "c0a257a3-1c04-402d-a460-3d9b3861a0fb",
        "colab": {
          "base_uri": "https://localhost:8080/",
          "height": 263
        }
      },
      "source": [
        "#Note: If some error occurs on-creating ./kaggle execute this block of code again. This may occur due to creating of root folder\n",
        "!pip install kaggle  #Installing kaggle package \n",
        "!mkdir .kaggle  #Kaggle directory is created in the root folder\n",
        "import json\n",
        "token = {\"username\":\"zzzz22\",\"key\":\"b1137a21a7a7be35cdfcfe83925b3096\"} #This tocken is used to acess Image_2.zip\n",
        "with open('/content/.kaggle/kaggle.json', 'w') as file:\n",
        "    json.dump(token, file)\n",
        "!cp /content/.kaggle/kaggle.json ~/.kaggle/kaggle.json\n",
        "!chmod 600 /root/.kaggle/kaggle.json\n",
        "!kaggle config set -n path -v{/content}\n",
        "#Note:If some error occurs on-creating ./kaggle,execute this block of code again this should work"
      ],
      "execution_count": 2,
      "outputs": [
        {
          "output_type": "stream",
          "text": [
            "Requirement already satisfied: kaggle in /usr/local/lib/python3.6/dist-packages (1.5.5)\n",
            "Requirement already satisfied: certifi in /usr/local/lib/python3.6/dist-packages (from kaggle) (2019.6.16)\n",
            "Requirement already satisfied: tqdm in /usr/local/lib/python3.6/dist-packages (from kaggle) (4.28.1)\n",
            "Requirement already satisfied: six>=1.10 in /usr/local/lib/python3.6/dist-packages (from kaggle) (1.12.0)\n",
            "Requirement already satisfied: python-dateutil in /usr/local/lib/python3.6/dist-packages (from kaggle) (2.5.3)\n",
            "Requirement already satisfied: python-slugify in /usr/local/lib/python3.6/dist-packages (from kaggle) (3.0.3)\n",
            "Requirement already satisfied: urllib3<1.25,>=1.21.1 in /usr/local/lib/python3.6/dist-packages (from kaggle) (1.24.3)\n",
            "Requirement already satisfied: requests in /usr/local/lib/python3.6/dist-packages (from kaggle) (2.21.0)\n",
            "Requirement already satisfied: text-unidecode==1.2 in /usr/local/lib/python3.6/dist-packages (from python-slugify->kaggle) (1.2)\n",
            "Requirement already satisfied: idna<2.9,>=2.5 in /usr/local/lib/python3.6/dist-packages (from requests->kaggle) (2.8)\n",
            "Requirement already satisfied: chardet<3.1.0,>=3.0.2 in /usr/local/lib/python3.6/dist-packages (from requests->kaggle) (3.0.4)\n",
            "mkdir: cannot create directory ‘.kaggle’: File exists\n",
            "- path is now set to: {/content}\n"
          ],
          "name": "stdout"
        }
      ]
    },
    {
      "cell_type": "code",
      "metadata": {
        "id": "XDX2ICpLrrIb",
        "colab_type": "code",
        "outputId": "88adcae0-70bc-42d6-c560-c2a6be31bbcc",
        "colab": {
          "base_uri": "https://localhost:8080/",
          "height": 69
        }
      },
      "source": [
        "!kaggle datasets download -d zzzz22/image-2 -p /content  #Download the dataset from kaggle"
      ],
      "execution_count": 3,
      "outputs": [
        {
          "output_type": "stream",
          "text": [
            "Downloading image-2.zip to /content\n",
            "\r  0% 0.00/29.2M [00:00<?, ?B/s]\r 17% 5.00M/29.2M [00:00<00:00, 25.7MB/s]\r 55% 16.0M/29.2M [00:00<00:00, 33.4MB/s]\n",
            "\r100% 29.2M/29.2M [00:00<00:00, 73.5MB/s]\n"
          ],
          "name": "stdout"
        }
      ]
    },
    {
      "cell_type": "code",
      "metadata": {
        "id": "cZN_kVNAD7sk",
        "colab_type": "code",
        "colab": {}
      },
      "source": [
        "#kaggle dataset is extracted which contains Image_2.zip and pretrained model file:my_model.h5\n",
        "import os\n",
        "import zipfile\n",
        "#image-2.zip is extracted to assignment1\n",
        "local_zip = '/content/image-2.zip'\n",
        "zip_ref = zipfile.ZipFile(local_zip, 'r')\n",
        "zip_ref.extractall('/content/assignment1')\n",
        "zip_ref.close()"
      ],
      "execution_count": 0,
      "outputs": []
    },
    {
      "cell_type": "code",
      "metadata": {
        "id": "G2GxtqB3gNgw",
        "colab_type": "code",
        "colab": {}
      },
      "source": [
        "#Extracts Image_2.zip is extracted to assignment1\n",
        "local_zip = '/content/assignment1/Image_2.zip'\n",
        "zip_ref = zipfile.ZipFile(local_zip, 'r')\n",
        "zip_ref.extractall('/content/assignment1/')\n",
        "zip_ref.close()"
      ],
      "execution_count": 0,
      "outputs": []
    },
    {
      "cell_type": "code",
      "metadata": {
        "id": "N1pswiJRFm8N",
        "colab_type": "code",
        "colab": {}
      },
      "source": [
        "# Directory with our training Category1 pictures\n",
        "train_cat1_dir = os.path.join('/content/assignment1/Image_2/Input/Dataset/train/category 1')\n",
        "\n",
        "# Directory with our training Category2 pictures\n",
        "train_cat2_dir = os.path.join('/content/assignment1/Image_2/Input/Dataset/train/category 2')\n",
        "\n",
        "# Directory with our training Category3 pictures\n",
        "train_cat3_dir = os.path.join('/content/assignment1/Image_2/Input/Dataset/train/category 3')\n",
        "\n",
        "# Directory with our training Category4 pictures\n",
        "train_cat4_dir = os.path.join('/content/assignment1/Image_2/Input/Dataset/train/category 4')"
      ],
      "execution_count": 0,
      "outputs": []
    },
    {
      "cell_type": "code",
      "metadata": {
        "id": "mRCXH1-9PvbT",
        "colab_type": "code",
        "outputId": "7aff7b7d-b7b5-4c74-a631-f6d4bba4d264",
        "colab": {
          "base_uri": "https://localhost:8080/",
          "height": 106
        }
      },
      "source": [
        "#Maping the directories to variable values and displaying the training image lablels from each directory\n",
        "train_cat1_names = os.listdir(train_cat1_dir)\n",
        "print(train_cat1_names[:])\n",
        "train_cat2_names = os.listdir(train_cat2_dir)\n",
        "print(train_cat2_names[:])\n",
        "train_cat3_names = os.listdir(train_cat3_dir)\n",
        "print(train_cat3_names[:])\n",
        "train_cat4_names = os.listdir(train_cat4_dir)\n",
        "print(train_cat4_names[:])"
      ],
      "execution_count": 7,
      "outputs": [
        {
          "output_type": "stream",
          "text": [
            "['category 1_original_1013.png_8f7e3555-2d36-4697-8e14-6303966ca0f4.png', 'category 1_original_1023.png_5c970e3a-708c-4ed7-aca9-6260104ff817.png', 'category 1_original_1031.png_28cb7d80-9969-4b8e-b84a-150dbfa23c9a.png', 'category 1_original_1000.png_c89211f0-607b-4454-9f0f-dc31584db133.png', 'category 1_original_1011.png_a0c91a3e-1b9c-4f40-a4d1-4fed67ead2b6.png', 'category 1_original_1031.png_257d396c-0ea1-4e7f-b863-23d2653c231c.png', 'category 1_original_1050.png_cd4d0c8c-95d5-43af-9510-3ad62c748be6.png', 'category 1_original_1012.png_6ba21c39-58e4-4794-a744-efeaf7f6b921.png', 'category 1_original_1043.png_dc7a64fc-7fbc-4fa1-a438-15772f6c4fb2.png', 'category 1_original_1033.png_05d94612-ee98-43fe-a623-9ce359956b05.png', 'category 1_original_1040.png_908f3c74-eed6-4796-a711-06c1008f0445.png', 'category 1_original_1031.png_1d048334-f4bb-4660-bd99-64df81f8d4aa.png', 'category 1_original_1042.png_e75bb47f-c3d6-49ee-abb7-7f3d13857a37.png', 'category 1_original_1011.png_09ee2c6b-6853-4938-ab95-760e6d137a77.png', 'category 1_original_1020.png_410a6bea-447d-4ffe-b9ad-0cb7092b3d77.png', 'category 1_original_1021.png_1577d328-786d-45d3-b70b-48f06139d2d3.png', 'category 1_original_1030.png_334c4216-2784-431e-bab8-547f6f841cad.png', 'category 1_original_1050.png_3a392001-cb65-4e29-8738-4c19bce1f12f.png', 'category 1_original_1040.png_09feef9b-7d51-4155-982c-c4e39d5758c4.png', 'category 1_original_1030.png_c6ea81e9-d184-4be6-9ff2-6b112811fdb3.png', 'category 1_original_1010.png_0a92c75d-e7bb-4973-9efd-8f0a297701fd.png', 'category 1_original_1011.png_5c69e56b-77f8-4538-978e-c383ae6454c3.png', 'category 1_original_1042.png_acc66dab-5c1a-4490-a7d1-79900c2f61eb.png', 'category 1_original_1010.png_4d56d3fe-2c2e-4b9c-abd4-3074c0381ea7.png', 'category 1_original_1012.png_e217e460-81e5-4083-a5de-6f1f1f9184b9.png', 'category 1_original_1024.png_78366fe3-441b-4608-83e1-239b8b33f80e.png', 'category 1_original_1041.png_3a4303ef-8d9d-4052-93be-cd9010f8c932.png', 'category 1_original_1050.png_ac07dd7a-f43d-4975-86a6-c04ddecd8072.png', 'category 1_original_1013.png_bc4d56ae-3287-44e5-8e07-f227b0e11e4d.png', 'category 1_original_1030.png_cfba2d70-7440-4829-8de7-98404141e697.png', 'category 1_original_1025.png_461227c7-13c8-4e54-a1b8-9753ee1a3e40.png', 'category 1_original_1020.png_835cf942-0c89-413d-95fe-14bd2b919586.png', 'category 1_original_1021.png_e199b799-9b28-42b8-b16c-3fd75ea723b6.png', 'category 1_original_1041.png_811fa32f-dbfd-45d1-aee1-b9f83ab7cb5d.png', 'category 1_original_1024.png_1e41d8f1-4f24-4c6e-b6d0-6e57b9af050a.png', 'category 1_original_1050.png_98a1f485-b691-45b4-8dd8-a9e2110aec74.png', '.DS_Store', 'category 1_original_1042.png_fd8fb574-ef2d-47b4-a311-710e7319880b.png', 'category 1_original_1011.png_5bf849dc-6638-41d1-923c-fb6192d0863e.png', 'category 1_original_1011.png_f12f99c1-3c33-45cc-ad87-65da0924e60a.png', 'category 1_original_1013.png_0db68405-adf1-4056-82a8-00ba10cd1a74.png', 'category 1_original_1011.png_877f76ee-04f0-4a57-ab10-654870149261.png', 'category 1_original_1025.png_2a68bc42-6530-4ad0-bd3c-0d62b9b2cf6b.png', 'category 1_original_1013.png_2d87c7f0-27cc-4dbf-a891-5b70dbfa8d66.png', 'category 1_original_1033.png_539ff247-3011-4c3a-95d6-d00c76e6c232.png', 'category 1_original_1050.png_abf9401c-f4a4-45c5-8768-83f0fb94e845.png', 'category 1_original_1000.png_a8cd0fef-8f45-471b-b4e1-02f76729b6df.png', 'category 1_original_1021.png_79a6f8be-a39b-4a8d-aa78-df77b90d23d6.png', 'category 1_original_1032.png_e7ed6bb7-7b57-4faf-abcc-6bc32ab414f9.png', 'category 1_original_1030.png_822e1516-72a0-4b5d-a655-266d3f0ec56a.png', 'category 1_original_1040.png_83f1002d-0e92-42d1-8104-95a83e42ab0a.png', 'category 1_original_1050.png_5f5015cf-b6c4-492e-8234-0057a6d283e2.png', 'category 1_original_1013.png_bb7b257a-cd09-4d23-86b6-9de65832f938.png', 'category 1_original_1014.png_c0210010-8dcb-4b16-9a79-c233f102b697.png', 'category 1_original_1043.png_7cf889d4-4d84-404b-9309-c7cf95011c19.png', 'category 1_original_1032.png_b49b9a11-e0c5-44d7-8d0c-b895704cc91d.png', 'category 1_original_1024.png_d8c80b75-4ecd-4ed9-ae85-43645f114818.png', 'category 1_original_1023.png_7b40a727-5dd8-4368-bd74-d2b170c4a0c7.png', 'category 1_original_1032.png_106017a7-921d-44c8-961d-ade3f3fdfab7.png', 'category 1_original_1040.png_6a9c456f-4c18-4a70-abbd-de00330948f4.png', 'category 1_original_1032.png_f71e3875-e4fb-4110-84f3-82d8c9f9166d.png', 'category 1_original_1030.png_eba574e1-82e5-4ec1-a78f-4da0d55bd003.png', 'category 1_original_1042.png_e1806a26-6cf1-444d-9c48-ee73e54747f8.png', 'category 1_original_1023.png_b6c0487b-176b-4f54-82aa-46eb2129c886.png', 'category 1_original_1011.png_4172b2d5-adde-4f10-bcc3-93eb8779bd61.png', 'category 1_original_1031.png_7973318b-bdce-4cef-a43b-d5ce3d0e9ef7.png', 'category 1_original_1011.png_02aa621b-3cde-4ff0-ab16-d80c9ed5226d.png', 'category 1_original_1021.png_de3f04ad-4e82-4da1-ac10-fc98f2fa4c36.png', 'category 1_original_1023.png_68b7458b-6d2e-4aa1-b2b5-7964989347fd.png', 'category 1_original_1030.png_0962f760-4b26-46d1-bf20-dfd0592fc3b7.png', 'category 1_original_1024.png_e29b84ea-7f9b-4b8e-bcce-a0a3cd2dee68.png', 'category 1_original_1000.png_3a0711db-3523-4e09-9df3-8c847410f703.png', 'category 1_original_1024.png_52cf5989-c954-4c10-9621-81836988e465.png', 'category 1_original_1011.png_d92943f0-fd2f-49cd-b860-aaf589602131.png', 'category 1_original_1023.png_00856ddc-ce04-4b8f-a54c-8803dfd13f7f.png', 'category 1_original_1050.png_47749bc0-6e2b-43c9-9aaf-968767b29009.png', 'category 1_original_1050.png_fa4719f4-9e3e-471e-9f48-78883c06d237.png', 'category 1_original_1043.png_854b2d4d-d44b-492c-b598-626b952ebb97.png', 'category 1_original_1041.png_26ad3dc1-ce60-4016-b8d7-57eb61c8460e.png', 'category 1_original_1025.png_4e4a4166-0fba-42cd-af2c-d986dc85eee7.png', 'category 1_original_1032.png_0566d1d1-03c4-451b-89a5-cfdef90d3e35.png', 'category 1_original_1020.png_7344b337-4bd9-4325-a23d-2ba6de3669df.png', 'category 1_original_1000.png_c61d4db4-cff4-444a-bb16-4b562979675c.png', 'category 1_original_1043.png_a80526df-a89b-4c25-9e4c-8ba179e49828.png', 'category 1_original_1031.png_921efb1a-23c6-44c0-9a7c-24b220551e5e.png', 'category 1_original_1041.png_fa7ef29f-cf78-4eea-bf8c-d990da713c53.png', 'category 1_original_1012.png_099ea3b4-e64a-4e4c-9b74-4ab336f82070.png', 'category 1_original_1043.png_a125fd1a-91e3-40c6-a1e0-b4996b62c3c9.png', 'category 1_original_1011.png_89e5e981-b425-48c9-bc86-2f643df44bae.png', 'category 1_original_1040.png_46705137-34cb-4a60-bf6d-42262e944e9d.png', 'category 1_original_1025.png_9f6ed2d9-c04d-44a3-8aa7-560890901eee.png', 'category 1_original_1020.png_54ed60a4-8e56-4359-9411-5eaca47f4b3c.png', 'category 1_original_1011.png_f6d62bbf-e554-494f-9d42-f52ebe61b384.png', 'category 1_original_1014.png_b97f4b24-6098-4e12-9e5d-2a296c617317.png', 'category 1_original_1050.png_ad624bbd-92ee-4c1e-97fa-8d3a7e2e6b30.png', 'category 1_original_1031.png_9f5ab96e-e9f0-4c66-9b1c-2ec3831a10b3.png', 'category 1_original_1000.png_01b3b4fc-dabe-457d-9159-3c2e7eb77785.png', 'category 1_original_1041.png_0381eee1-d393-482d-a1aa-eb1f5edbd0c0.png', 'category 1_original_1014.png_41d2b853-4ac2-4d66-8539-d6b00dbdd502.png', 'category 1_original_1014.png_8ed7447a-17e4-4671-bea2-4db751175277.png', 'category 1_original_1050.png_54b5cf6a-e764-4323-9919-15e39a768bf3.png', 'category 1_original_1025.png_194aabbf-d34c-406c-9ddc-c857fa806557.png', 'category 1_original_1033.png_88dd1fd5-97e5-4b7f-8959-88f8d61411c1.png']\n",
            "['category 2_original_6033.png_b3428f42-fe1d-4229-8157-b29f7addb615.png', 'category 2_original_6020.png_8eee8d28-6aa0-4361-9074-28837165b8ee.png', 'category 2_original_6031.png_4b493e75-2f5d-4208-859d-dce159b7cb93.png', 'category 2_original_6031.png_e9a889c8-3e48-4d34-865f-acfe478a9746.png', 'category 2_original_6041.png_4bed7e0f-ea1c-4dbe-91ed-0e0c19bcc861.png', 'category 2_original_6040.png_9e6cca66-a1a9-4b63-b58b-0ca9cfdbc287.png', 'category 2_original_6013.png_e3704583-20cf-4985-b7be-4e5f4185da28.png', 'category 2_original_6025.png_4c9a1790-6aac-4267-9c46-b55f956510bf.png', 'category 2_original_6041.png_078886d3-5581-47a9-93e2-a9ab229f5551.png', 'category 2_original_6042.png_9ac12dd6-9ade-4e93-a7b0-d21bb48ece22.png', 'category 2_original_6000.png_8b9bab98-f39d-4ef7-b662-b634f15873f4.png', 'category 2_original_6021.png_5f9a40ed-6ea5-43d3-a3d2-0a7d66b9e390.png', 'category 2_original_6021.png_6f9a7224-38ae-471f-8054-0dace06e1fe7.png', 'category 2_original_6031.png_204df9f1-4e7d-450c-b48c-18e319323a8d.png', 'category 2_original_6041.png_1b94ae30-b5f4-4637-acdb-84a5370fa800.png', 'category 2_original_6021.png_391e1a63-c3d3-48db-ae3c-e13fd509c795.png', 'category 2_original_6011.png_ab406767-2e83-4f10-b113-e9b11f2fb6b1.png', 'category 2_original_6010.png_817e7eed-7164-4952-896f-ffdc33d05526.png', 'category 2_original_6040.png_cc8893e8-50c0-4c96-9158-4dd351b9261c.png', 'category 2_original_6014.png_e02c3803-8dba-4a71-8365-2f8d9b971904.png', 'category 2_original_6012.png_64da26ea-f196-4458-a088-017567eff2bb.png', 'category 2_original_6021.png_94e6c619-e199-4fce-a61a-b7021dc8c6bb.png', 'category 2_original_6042.png_7ba44608-cad8-48b4-8546-b13dd9d08aa4.png', 'category 2_original_6000.png_7483dc02-19a8-47ef-b40d-22a54ebb9520.png', 'category 2_original_6020.png_bd547b24-9927-486e-bc77-2a9317311a37.png', 'category 2_original_6011.png_38e5f4bd-7870-4fac-b8b2-19d580a14e62.png', 'category 2_original_6012.png_441b0eae-18db-4ac0-bf39-d8263e3e7c9e.png', 'category 2_original_6014.png_73877e7a-458b-456b-8fc9-8e2dceb6576c.png', 'category 2_original_6012.png_26a814c4-992d-4061-a813-d653db5444da.png', 'category 2_original_6025.png_11d8938c-302b-4995-a5c2-7fc6221902fa.png', 'category 2_original_6042.png_dbc8c0a6-0bf7-4c29-bc07-d6e14d732f4d.png', 'category 2_original_6021.png_44c00ba8-6d43-4d5d-a790-a039cb408d5d.png', 'category 2_original_6041.png_0eb2bc9a-c1fc-4e69-9508-fe2bfefea57a.png', 'category 2_original_6030.png_a22e02c8-610a-4e97-95e5-fb011a8e367a.png', 'category 2_original_6041.png_d41d037a-5ff9-465a-a16f-80605081f19d.png', 'category 2_original_6000.png_8b9a98e7-f746-4751-b846-c8b3f164caf0.png', 'category 2_original_6050.png_4d8863a9-4f90-41bc-977e-8ae177a11d44.png', 'category 2_original_6024.png_80198cd1-db98-45e5-a8c9-8cf3199ff337.png', 'category 2_original_6013.png_6b0af73f-a4d3-409e-abc4-2a7ac6a16c4e.png', 'category 2_original_6033.png_4cdb70ec-9649-4857-b2de-975155a6bb3e.png', 'category 2_original_6033.png_55bfcfc6-8f8b-4fe4-9084-2f0c1276ce8b.png', 'category 2_original_6040.png_1f58714b-06be-4dc8-b071-93dd92870254.png', 'category 2_original_6040.png_29425d21-2eec-4719-9566-302d23c806c7.png', 'category 2_original_6042.png_fb077d6a-267e-4f60-aa18-67d2ab8fcfaa.png', 'category 2_original_6013.png_514ece40-30dc-4ff4-9dc8-b7ed142872ac.png', 'category 2_original_6025.png_ad20bc5e-d157-492c-ba27-43123b28524a.png', 'category 2_original_6020.png_dd9f2661-f293-444d-b9e1-ccaa3a9a7394.png', 'category 2_original_6010.png_9e6f5caf-7f7c-4a15-9de2-7cb3aa860bad.png', 'category 2_original_6033.png_b432bae7-7995-4b4d-bf61-7d80324b319e.png', 'category 2_original_6050.png_b67def76-d08d-445d-a2c0-42b879641e0c.png', 'category 2_original_6043.png_6d1d04c5-146d-4afb-806a-cc10cab187d6.png', 'category 2_original_6041.png_0a7ede4d-0745-4dea-876e-b102734c893b.png', 'category 2_original_6022.png_09aed0f5-9819-42e2-9a72-a8fe724d0a45.png', 'category 2_original_6012.png_9535d23e-7a1a-4df3-b9a3-cfecd167d49a.png', 'category 2_original_6041.png_b96b963b-d35c-4fdf-b8e6-6e9ec0cb5c81.png', 'category 2_original_6042.png_ad930da3-6088-4975-a831-f5b25771c61a.png', 'category 2_original_6024.png_6ef17657-f55a-4ed6-9868-d832c6ccc9db.png', 'category 2_original_6043.png_1f010b08-a6d9-41dd-8fcb-2b0902a63dec.png', 'category 2_original_6020.png_a264e31d-36c9-4122-857a-48c911adf7c8.png', 'category 2_original_6040.png_4f65824d-50d6-4a2c-a26f-d8600824786c.png', 'category 2_original_6014.png_8a7bf5f3-3c1d-4fe4-97b8-4cd9604b6005.png', 'category 2_original_6024.png_6bcee79c-91cf-4d7b-a23a-5816941647b9.png', 'category 2_original_6041.png_35eea8bb-75f9-4be6-a08b-a8c2aad9959f.png', 'category 2_original_6031.png_b8e2d05b-08c7-4afa-8d21-b3b5b3b0fd62.png', 'category 2_original_6022.png_03b2d1ea-af80-4333-bcdb-17dea18b9a71.png', 'category 2_original_6024.png_e9ad400f-9a27-41a0-8e92-592fa266f2f5.png', 'category 2_original_6043.png_371a7462-7e93-4a2c-83fc-6732349f1fde.png', 'category 2_original_6041.png_6c2e61f7-746e-4f05-b0d2-482211832923.png', 'category 2_original_6024.png_dd5a50ea-9c76-42bf-97c9-667524e52b7e.png', 'category 2_original_6030.png_0e8ef447-e02f-4b46-be9b-19b2e396f1d2.png', 'category 2_original_6020.png_08017e46-b765-4b6d-aeb7-140398ca029f.png', 'category 2_original_6010.png_0295c89d-e461-403c-bdfa-f4f2d8582e24.png', 'category 2_original_6012.png_af5cdb17-204c-4cb7-9852-152fb9799e88.png', 'category 2_original_6025.png_e1ce5941-84dc-43b3-b201-7593a6d673af.png', 'category 2_original_6025.png_f3ff3a86-d870-4386-9344-6dc815ca06a7.png', 'category 2_original_6033.png_3252d2e5-6ede-4de4-b420-882f02581f57.png', 'category 2_original_6024.png_c74f0207-844e-4666-b3d2-8cb6482a30f5.png', 'category 2_original_6041.png_620d5b80-6830-42e2-9cfc-42e9e1e8e764.png', 'category 2_original_6013.png_04eaca06-6a22-4c4c-a895-572fba154737.png', 'category 2_original_6000.png_f1cb5961-b306-48a7-9aaf-e47f3732fc58.png', 'category 2_original_6043.png_fef43a57-36ee-405d-bd28-c2734dd641be.png', 'category 2_original_6042.png_6d3367e4-43e9-4e9d-a46d-eb96b16a21c2.png', 'category 2_original_6011.png_4766b4a9-7097-4780-a76e-90ef3a719514.png', 'category 2_original_6000.png_0fedf894-fc62-4e7b-b1ba-1752a2a246ae.png', 'category 2_original_6012.png_521b127b-b207-4b97-8e97-9728cc29f4a8.png', 'category 2_original_6021.png_8316d499-482b-4d41-be24-57e1885bc5d0.png', 'category 2_original_6012.png_31f01938-19a3-42c1-ab08-03edbc7a6dcc.png', 'category 2_original_6033.png_691c3bcb-2dbe-4688-aae0-707493645e1b.png', 'category 2_original_6024.png_b05b362e-45b1-47b1-8528-aa684f199256.png', 'category 2_original_6020.png_08c79930-ce80-44a1-a013-df9642ad55ee.png', 'category 2_original_6031.png_0eb3efda-ffec-404e-bf5f-dc7f0b17c956.png', 'category 2_original_6010.png_aeacf8a0-2f49-407f-83df-6d122e48adb8.png', 'category 2_original_6030.png_b975e82a-2ece-4ace-b8c7-618732602a1c.png', 'category 2_original_6050.png_d1b40c72-f787-4619-b5ff-710fd0a5e023.png', 'category 2_original_6012.png_9b73f44e-0843-4113-83ef-63c6adaec20d.png', 'category 2_original_6021.png_f67b0b76-6f09-4f5f-849c-859f186ac223.png', 'category 2_original_6030.png_c23db5c8-3d67-4813-81a4-ffdafa37bfd4.png', 'category 2_original_6030.png_657bedb0-aa03-4ae4-b343-f854d62ec460.png', 'category 2_original_6040.png_f91a03bb-93ce-44ee-8bb1-8f57995a5e23.png', 'category 2_original_6033.png_ec631441-4d5f-4080-95e0-b604d3280216.png', 'category 2_original_6032.png_96bb08c4-efbd-461d-8843-dc54696a1f6d.png', 'category 2_original_6041.png_b690c579-2991-4032-9aa6-9b96ab39ad2f.png', 'category 2_original_6022.png_4fbe7f69-8d55-48ab-8c79-5fc46eb60536.png', 'category 2_original_6033.png_010c84e3-0067-4466-bd1b-dad44ac0079c.png', 'category 2_original_6021.png_c6a73f9b-974f-4e8c-8445-ba45b1c935bb.png', 'category 2_original_6013.png_3d32f9de-0c54-4dd6-b016-3dad12a7ebf9.png', 'category 2_original_6032.png_0e8fc26c-9c9f-4620-b84c-5ff04107177b.png']\n",
            "['category 3_original_4014.png_2479c4f4-fcab-46ec-9432-fd6447a86089.png', 'category 3_original_4025.png_0d80dc19-eabb-4102-b403-7fdc115a499f.png', 'category 3_original_4032.png_a4100676-08f8-468a-b74c-5f4ff7c634e7.png', 'category 3_original_4010.png_95a8ac7a-75bf-4d50-8fcf-510eae39b110.png', 'category 3_original_4040.png_b0e4eebe-5f26-47fb-a5c2-f19351335de7.png', 'category 3_original_4033.png_d6c10177-849e-4178-8630-a3a3e837591c.png', 'category 3_original_4022.png_e0b3abac-7a75-461a-874c-069511de100e.png', 'category 3_original_4000.png_359d29aa-93bb-454b-8ee2-f5d3e2f02c14.png', 'category 3_original_4024.png_d00ecc36-2a74-4e3c-97e4-da8c2325d1a1.png', 'category 3_original_4022.png_0f613a90-3590-47e7-9e51-b3a8f29eb6d6.png', 'category 3_original_4012.png_a5129102-fdbd-464a-aa7a-2b05d8873823.png', 'category 3_original_4032.png_722cfc40-49c7-4aa5-b2ae-212d4656d902.png', 'category 3_original_4012.png_93061635-8a0b-4d7f-a7c8-dada6ce33734.png', 'category 3_original_4041.png_b55452f4-8c9c-41a8-b023-048854fe05f4.png', 'category 3_original_4040.png_fb0184a6-6d73-49f4-89fa-8f751c57109d.png', 'category 3_original_4033.png_e556e775-7ea1-4c4f-884c-eb4be6748397.png', 'category 3_original_4024.png_de43e50b-8136-4f96-90a6-6a7cfeb2c880.png', 'category 3_original_4030.png_e2216f6e-eb5d-4bbf-8f3b-d0e163c32caf.png', 'category 3_original_4020.png_5f1afb54-52c7-4165-bbe6-853e806dde70.png', 'category 3_original_4013.png_4e2ffd2f-fb06-4d8a-a252-eceb749afa3c.png', 'category 3_original_4013.png_26c9733a-01cc-44d1-af02-228bea222afa.png', 'category 3_original_4012.png_ae3334d5-865d-41a4-bf54-5286fb1cbb80.png', 'category 3_original_4040.png_a517d6ce-b117-4cae-ac31-49eb358064fa.png', 'category 3_original_4014.png_40a6f075-72f0-4ea8-95c9-d2717ea212f2.png', 'category 3_original_4021.png_39ba6ef0-446d-44ef-b945-570562c67304.png', 'category 3_original_4030.png_b3d14446-a488-4cd0-99fc-38291e199a67.png', 'category 3_original_4032.png_a38cbe4e-27ba-445f-a46e-049dc584cb6c.png', 'category 3_original_4032.png_4caa5721-7931-4c40-a1e0-972e52f4efa3.png', 'category 3_original_4023.png_63441f56-729e-45f1-ae95-7df65c67d0df.png', 'category 3_original_4033.png_c9092278-9ec1-4355-8851-203bc5b995c7.png', 'category 3_original_4022.png_2fa16f49-935e-43c2-b111-2efe738bf113.png', 'category 3_original_4021.png_7654b456-ffaf-4a1e-bd03-0103d847230e.png', 'category 3_original_4021.png_c34ae41b-610b-478d-b173-aeebeaf4afa6.png', 'category 3_original_4012.png_afb1436a-e7a8-4203-83e1-f1e435513791.png', 'category 3_original_4022.png_14e24c88-54ff-44d7-8648-3a8735960fe4.png', 'category 3_original_4041.png_8f585346-2cea-4cff-95fc-06d8c481ea2c.png', 'category 3_original_4012.png_df6be776-097a-4bb8-a2a6-215ac39d5109.png', 'category 3_original_4012.png_f237b085-00a8-44a1-8ebc-23d592208ef2.png', 'category 3_original_4014.png_47ebc669-55a7-41bb-97d3-c3c5b0e3110a.png', 'category 3_original_4014.png_8da60b85-174d-4358-be29-a5d28ba20059.png', 'category 3_original_4010.png_e6a66fd5-1caf-4111-bbc3-4ad77e587a19.png', 'category 3_original_4021.png_26ab644c-00ae-4f02-9a19-c47682fe08eb.png', 'category 3_original_4042.png_44702489-e228-44f5-a584-42a5935bfba1.png', 'category 3_original_4033.png_ab1e0572-926e-4436-ae06-44dc1d3f1ace.png', 'category 3_original_4000.png_b86d6a8c-14da-4af8-861f-9cae6a870f03.png', 'category 3_original_4032.png_d7e19c21-03fe-49bf-84f0-be90e741d979.png', 'category 3_original_4030.png_934e1c34-cacf-4170-97ce-803ad59c278d.png', 'category 3_original_4042.png_d621b1c6-f292-4591-9aab-6f298404d8e5.png', 'category 3_original_4024.png_e76ddf35-f88e-4f7f-b75e-7eed720ee421.png', 'category 3_original_4000.png_e644cef7-524c-4694-957d-7e88320c11f6.png', 'category 3_original_4024.png_a7d29121-7347-4c5e-be57-8627f21d8029.png', 'category 3_original_4041.png_4417f495-aa37-47a8-83c5-de4e7729ab6a.png', 'category 3_original_4012.png_af4599ab-93e1-4fe1-af2f-0f871d3e13fc.png', 'category 3_original_4031.png_a3af8a46-6a1b-483b-b3cd-2dfb58f9377c.png', 'category 3_original_4041.png_457fbd1f-c35d-4615-8299-481fba5d4fe0.png', 'category 3_original_4022.png_9cad27b0-05d0-4b11-9147-da995ff59402.png', 'category 3_original_4020.png_f74620fd-1741-4f09-a5cd-49cb7dad27ce.png', 'category 3_original_4012.png_6eb16b4a-6b64-4b08-8210-539d7ea1837a.png', 'category 3_original_4012.png_a6777c1e-3f16-4ed7-b27f-7b74201d4e90.png', 'category 3_original_4041.png_c710707c-8d0b-4a20-9a3e-d0a3c15fa26a.png', 'category 3_original_4013.png_d1cf566d-796b-4006-a825-310d6f89ec65.png', 'category 3_original_4032.png_e478f5a5-d44a-4ea0-b957-4d54997215d2.png', 'category 3_original_4025.png_780dd6be-d3ad-4139-86bf-a2af6eab058e.png', 'category 3_original_4042.png_dbdabed4-644b-429e-9a94-5a40d79c2a2f.png', 'category 3_original_4032.png_f3e71df5-1f8c-4e0c-a610-cb65f379645f.png', 'category 3_original_4030.png_490f1402-6857-4d6a-b49e-dedef1426ba0.png', 'category 3_original_4033.png_df499d3e-a53b-4b79-9c2b-cb62e2e4c040.png', 'category 3_original_4042.png_846fc5b4-a4a4-4dbb-bfdb-bdc01d4c03ea.png', 'category 3_original_4041.png_9a2afa3e-90fb-47e3-9abe-9ce93adee362.png', 'category 3_original_4014.png_b7c2f306-0554-402c-baad-d9e067365b1f.png', 'category 3_original_4042.png_b85cc4f8-f113-4352-aba9-2668e3b2aac8.png', 'category 3_original_4021.png_ddc28520-150a-4552-8047-8193dd5834ce.png', 'category 3_original_4030.png_fc4c655c-dd91-4c39-9f6b-3af30af8c5c0.png', 'category 3_original_4041.png_874fcabe-71b4-414a-b377-f4bf8784628a.png', 'category 3_original_4010.png_c8a5440a-716b-4cba-acad-c93b25ac235d.png', 'category 3_original_4030.png_9b0201a9-b0f6-445e-811d-8c8102349347.png', 'category 3_original_4023.png_c527e335-6bc6-4825-96c4-1e70cdf00565.png', 'category 3_original_4021.png_0541ca11-ed4b-4623-ba95-a6ff5b9b46fc.png', 'category 3_original_4021.png_7708512f-b2bb-4705-bc8b-c005799b4c0b.png', 'category 3_original_4010.png_1c1f823a-d1a4-4487-8330-d1f6a23e41da.png', 'category 3_original_4013.png_183b7c18-949f-451e-80e4-00e41cda107b.png', 'category 3_original_4024.png_cce52cfe-7a01-4ad9-bb93-c164f041462d.png', 'category 3_original_4021.png_8ec3976e-b1c2-4ac0-b825-f08ed3c5116c.png', 'category 3_original_4024.png_3486e764-1c69-492c-a3de-15239c65b818.png', 'category 3_original_4040.png_89428bec-9f3a-4998-83ef-a1d7e7082bc9.png', 'category 3_original_4012.png_07306be9-ecce-4c14-9910-ea4862b38607.png', 'category 3_original_4000.png_de80850b-acc7-4fe7-b804-607d66d5db86.png', 'category 3_original_4013.png_7abf6582-116f-401b-8c1b-ff7e61c05c76.png', 'category 3_original_4041.png_e46a6122-95fe-4067-8f9a-66ebf0587390.png', 'category 3_original_4040.png_36ba8a7a-87da-47bf-95de-540b4d035130.png', 'category 3_original_4021.png_bfb90c8c-9fd4-46fd-9ed5-0e63db480cc3.png', 'category 3_original_4014.png_c9310697-67a0-4555-9d58-52b8f18d1f65.png', 'category 3_original_4032.png_810800f9-6cd3-4dee-9beb-b5942aa3ade4.png', 'category 3_original_4022.png_b889b903-91ac-4f9f-b042-6366a565bf33.png', 'category 3_original_4025.png_8c4af1dd-4542-4617-a6d3-d1919f1c88a2.png', 'category 3_original_4030.png_77620930-31d0-49db-b6b7-c08e3163d994.png', 'category 3_original_4042.png_b0d5607b-3c50-48ca-8e3c-c8ddf372f47b.png', 'category 3_original_4020.png_6cd97cd8-eb00-463f-9f2e-95c838a271fb.png', 'category 3_original_4022.png_7a963930-ba6f-49b4-b29f-a1ff240017be.png', 'category 3_original_4012.png_ddd19db4-608f-4d62-a781-a5058febaab6.png', 'category 3_original_4022.png_aaf4c841-25ee-4fe4-a692-5ac59eab13e9.png', 'category 3_original_4021.png_2bc0b71d-b406-4915-9f77-da63efbf3032.png', 'category 3_original_4041.png_1d955ab4-61ed-4bf3-8602-e3a393cd73fe.png', 'category 3_original_4030.png_b158723f-80f3-4547-a079-16b9662be5f9.png', 'category 3_original_4031.png_6387139e-5004-4e62-bd5e-4b723fc1bb81.png', 'category 3_original_4041.png_45765d80-bf0b-41d1-98a3-1a89bd91be1c.png', 'category 3_original_4010.png_6f6f7ab1-a160-4efe-ae9e-e2a042935260.png', 'category 3_original_4023.png_cea04b52-54fc-45c8-b15a-4e267e534653.png', 'category 3_original_4032.png_d4ac0dd1-b1a9-405a-996a-c8c264693526.png', 'category 3_original_4024.png_ca68729a-258f-486d-8344-70b357e763a7.png', 'category 3_original_4012.png_3b7927a2-3ec8-4e1d-b95d-259248e22797.png', 'category 3_original_4013.png_0db83055-1bce-4a3d-805b-b46fa3be2434.png']\n",
            "['category 4_original_C050.png_b174b976-dbcd-41c4-b574-b1a62559ca16.png', 'category 4_original_C032.png_76a9819a-7fb7-47de-a3df-f8f3338b0191.png', 'category 4_original_C025.png_ef459b8a-ec7c-44f6-85d4-39f7550bbe69.png', 'category 4_original_C050.png_3fc3760f-d505-4fb5-8cd3-e3abfbd9709b.png', 'category 4_original_C024.png_8457dcbb-34c9-43a7-bf23-4cb4c3169095.png', 'category 4_original_C051.png_8bf3566c-279b-4604-b3c8-042f7ac21578.png', 'category 4_original_C051.png_0cab3270-d518-4be6-96ff-4c7b628e23d2.png', 'category 4_original_C011.png_0bbace8e-7878-4b83-9573-17248e502c4e.png', 'category 4_original_C000.png_095a622d-9c87-4c43-9237-946d27c3e0cb.png', 'category 4_original_C021.png_14d562a9-c9e6-495a-8cac-7b5cb258e990.png', 'category 4_original_C024.png_9992dc9c-fe27-4d8c-ad71-5ec6c2f91789.png', 'category 4_original_C051.png_f863a48d-ac11-4aea-a425-ea28a90132a2.png', 'category 4_original_C023.png_27133b03-927a-4cf5-bdae-d5301e26e4c0.png', 'category 4_original_C050.png_b8a1fd35-3d32-4626-b7c7-9bd6c2089e66.png', 'category 4_original_C021.png_21c922d1-5b4d-4572-8c27-c57986803e4e.png', 'category 4_original_C022.png_d877d068-1e5f-4cd5-a2cf-11c3860fec4d.png', 'category 4_original_C042.png_bc0cdf09-4f6b-43cb-8786-5155e0088037.png', 'category 4_original_C050.png_d0ff4697-dc65-4bfe-9fd4-16c5492bc98c.png', 'category 4_original_C050.png_b7561aeb-280d-4a30-8ef4-a1da4b421b88.png', 'category 4_original_C041.png_6dc9e80b-f6f3-437f-a4be-de58a36e755c.png', 'category 4_original_C032.png_c1329134-9ee9-4998-8c99-d6e4da6f7711.png', 'category 4_original_C022.png_f509813e-91f8-4126-8714-67363550290e.png', 'category 4_original_C030.png_8a5e02ba-8431-48e7-80d0-6aed73c26c3c.png', 'category 4_original_C050.png_d8acc241-7fa3-4897-8925-9da98b26ae2b.png', 'category 4_original_C000.png_b74393c1-1eb8-41d6-80da-3004927d5b03.png', 'category 4_original_C040.png_46defe44-d6f3-4681-a224-3376990ce6ff.png', 'category 4_original_C023.png_901740a2-f397-450c-bd7b-42779049e55e.png', 'category 4_original_C050.png_efe7fd32-8203-47df-8cff-99e47e60033c.png', 'category 4_original_C013.png_5824fb0f-04de-49d9-a862-8e1a699b7cf5.png', 'category 4_original_C032.png_5e35e87f-2112-4cf3-b92c-008bf38ec268.png', 'category 4_original_C050.png_3af88430-c4d3-48d4-8c39-6ed3d1126c1e.png', 'category 4_original_C023.png_9d4a9646-d29c-4cc6-b571-705511f2be2f.png', 'category 4_original_C040.png_933b0930-ac70-42c2-a4a5-d5110178744a.png', 'category 4_original_C012.png_da5b63a7-7b11-4a76-8bd9-dbc7b679876b.png', 'category 4_original_C012.png_54d65581-95dd-4869-87ec-c04d6136390e.png', 'category 4_original_C010.png_32cd6692-b6ee-4efb-9a37-1a27eba5b27a.png', 'category 4_original_C010.png_39635fee-a1e8-4b55-9695-cc0173425bee.png', 'category 4_original_C013.png_89298418-a161-4739-b51f-ff806af0380b.png', 'category 4_original_C051.png_06e3884b-d97a-41d0-8da4-5b0017d1c6cf.png', 'category 4_original_C051.png_f6c9916c-a4a2-43cf-9499-903b29fd7978.png', 'category 4_original_C020.png_2519ae8d-0f26-47c3-a50e-a5534c0f2d9b.png', 'category 4_original_C025.png_2feb6b2f-4952-4700-bf2a-8af416ba1111.png', 'category 4_original_C040.png_610b16db-f988-4634-863f-550ad0e39854.png', 'category 4_original_C050.png_fe233ca9-50be-4dd9-8687-2020c5b02f03.png', 'category 4_original_C013.png_d4ea28dc-e959-4b85-a242-a69f8ef08014.png', 'category 4_original_C051.png_5131fcde-9c25-4520-965f-65a412b50cc8.png', 'category 4_original_C050.png_776b6048-b4f1-46f6-8441-ac73355a231f.png', 'category 4_original_C011.png_d1471034-ef6c-426d-8d9f-b496cf752963.png', 'category 4_original_C010.png_2c356427-d1b3-4ef8-b7fb-fdc707b88100.png', 'category 4_original_C032.png_245f3324-f0de-4875-9c87-e5e3a0f0927c.png', 'category 4_original_C051.png_6751cb7d-caeb-4df8-b15d-938271aef106.png', 'category 4_original_C012.png_166c7705-c065-4df4-948e-d39871409c95.png', 'category 4_original_C013.png_dfbd5662-d145-49d6-89bd-b17edcf7fec2.png', 'category 4_original_C021.png_f93d6442-fe8d-4ab3-8e7d-60530b37d1af.png', 'category 4_original_C042.png_53c67c08-5c94-4b08-89e9-e75597bd3921.png', 'category 4_original_C043.png_2b8ead70-7a97-44be-a376-682b15906e38.png', 'category 4_original_C043.png_2460b276-bdd1-4d3f-a0da-e83d02451d26.png', 'category 4_original_C040.png_545e373a-5e97-4e6b-a3e6-7ca057bc1ac0.png', 'category 4_original_C041.png_17d28b25-d03b-4259-bb42-88efbb54d980.png', 'category 4_original_C032.png_48c5d2c6-91a6-45b0-80b9-f3f0016d044e.png', 'category 4_original_C051.png_daef4898-6148-4b7f-93d4-35effcb6f170.png', 'category 4_original_C030.png_5d605757-61ed-40e3-843e-4991c7a8f578.png', 'category 4_original_C000.png_ffdbf440-bd70-469f-a7eb-3aed46400edb.png', 'category 4_original_C000.png_223f47aa-cc6d-42ff-9dd7-4ff83f5b4b95.png', 'category 4_original_C050.png_c3f0f50e-9e96-4409-993e-327e7a19c44f.png', 'category 4_original_C012.png_c793d28c-b4e4-4639-afdd-538d1ce04acd.png', 'category 4_original_C022.png_00f660f7-ff37-4e34-b54a-856f6ad3c118.png', 'category 4_original_C023.png_e1215936-def4-4f10-a618-eee8dbd0ad8c.png', 'category 4_original_C051.png_29e77e72-53a2-470c-9f29-cb15e94508d0.png', 'category 4_original_C025.png_0e6f56c8-d4ae-4e1c-9d4b-0bdccec4974e.png', 'category 4_original_C021.png_8be9bdf8-e071-47e5-b177-ce5d79088dc7.png', 'category 4_original_C032.png_31153a8e-8198-4d73-8fda-14ef5a279d18.png', 'category 4_original_C012.png_4c12b060-283c-4b76-a659-63aa219ca7df.png', 'category 4_original_C024.png_e3fbf0ea-d214-4f5a-adae-6f033af06f0a.png', 'category 4_original_C021.png_10f8a01f-f4c5-4e84-9285-144df0eefff9.png', 'category 4_original_C024.png_68435f51-159b-4e1a-b7c4-ba542e96595a.png', 'category 4_original_C041.png_67d87bb8-010b-493f-a281-0c02054b8e12.png', 'category 4_original_C012.png_61da7f3e-d992-43c7-8652-352c1c4b170a.png', 'category 4_original_C043.png_52ad87db-37b1-42ac-adb6-57c1fe1dc13f.png', 'category 4_original_C024.png_337375e4-da62-41a5-a936-1807ae313e84.png', 'category 4_original_C022.png_9bb87c07-ca7c-4192-a66f-7a280d377980.png', 'category 4_original_C025.png_ed5370a4-43b1-48e2-86a5-482ee5d631f2.png', 'category 4_original_C043.png_53679dda-638b-4fbb-bbd5-7d3f0e4d0edc.png', 'category 4_original_C041.png_389813c1-aa0d-429c-8330-bad1080c03ff.png', 'category 4_original_C041.png_26caff0b-bc18-43f1-bff2-08764c39da8c.png', 'category 4_original_C050.png_9ca6358a-c634-4614-a58d-4eac9f9ba8fe.png', 'category 4_original_C010.png_97846c61-f484-461a-a9e9-fc70d7262ae8.png', 'category 4_original_C010.png_fadebb9c-1435-476e-a434-7a3a1d9b41f2.png', 'category 4_original_C032.png_f7df8503-63e7-4d2f-ae75-c13e27661316.png', 'category 4_original_C031.png_c4f78810-b018-4bd0-94cf-498a7bc5c701.png', 'category 4_original_C040.png_01919440-0b3e-441c-8436-c30e0cab32a8.png', 'category 4_original_C025.png_17ca8c72-9c24-4ca9-9467-c2ecf0c0a8b2.png', 'category 4_original_C041.png_0cb8bb16-f6b7-4c79-b6ce-455bbce8bf6a.png', 'category 4_original_C013.png_be415b3f-f3c6-48c7-baa4-4762e3fe3e81.png', 'category 4_original_C000.png_5fde89c2-1349-424c-81a4-fa61909f8ef0.png', 'category 4_original_C041.png_3cfbf131-4641-42c8-ae0a-bf7c6ce24b26.png', 'category 4_original_C024.png_3547d340-aaec-4223-adfd-bbb7374f7be5.png', 'category 4_original_C024.png_4e7258de-04a6-40b5-8dd8-6297f7df5062.png', 'category 4_original_C010.png_df29ca06-4aaa-455b-b4fb-7749a29efbfd.png', 'category 4_original_C010.png_f6a89e01-e821-4c4e-bd59-23231ef61fee.png', 'category 4_original_C030.png_5bacb6dd-a84f-4c49-aa55-7d8f37974827.png', 'category 4_original_C000.png_0897dcc3-6dd3-4bb4-b559-56b9b2b2c588.png', 'category 4_original_C010.png_3f009d7c-e7d9-4531-a8f4-858867078640.png', 'category 4_original_C041.png_d3da78e8-9baa-47cd-9e00-e4f594c5c231.png', 'category 4_original_C012.png_43693439-b7bd-4e09-afdd-2e88edaa052e.png', 'category 4_original_C050.png_e00361e6-bf79-441c-baf8-a423ea5a46ac.png', 'category 4_original_C024.png_d68602c4-9f35-4414-abcb-b6193036b3ff.png', 'category 4_original_C031.png_d95ed51c-217d-4223-a693-0d1fda5be7e3.png', 'category 4_original_C031.png_87b8d61b-9ebf-489d-94ad-db1ae50408de.png', 'category 4_original_C041.png_0f68e400-04aa-4671-aa44-28f7c2ca0c53.png', 'category 4_original_C050.png_4e0a8338-3280-4468-a46c-36ddabc4b767.png', 'category 4_original_C021.png_3646d1f3-4d17-4d5a-9b3d-10c7898c5dc4.png', 'category 4_original_C040.png_8c31f4d9-afaf-412c-a68f-8ddfdd366f93.png', 'category 4_original_C011.png_2514ce1d-28f4-425d-89d8-667257bbeff7.png', 'category 4_original_C024.png_74c8adeb-d0a9-4055-8dc6-1670de43f69e.png', 'category 4_original_C020.png_ce01fe67-b41f-4edd-9efa-3165270a59df.png', 'category 4_original_C050.png_71ed653e-329c-47c0-bdf8-6297b195764f.png', 'category 4_original_C010.png_c222e499-6762-4140-aa1f-b493c48df818.png', 'category 4_original_C032.png_a88af67f-a9e5-4f7b-b474-bd48bce41516.png']\n"
          ],
          "name": "stdout"
        }
      ]
    },
    {
      "cell_type": "code",
      "metadata": {
        "id": "Dh3mO2kdQYIa",
        "colab_type": "code",
        "outputId": "73e16c32-1592-498a-fee1-e863f0d2b40f",
        "colab": {
          "base_uri": "https://localhost:8080/",
          "height": 86
        }
      },
      "source": [
        "#Gives the count of the images in each category directory\n",
        "print('total images in train/category1:', len(os.listdir(train_cat1_dir)))\n",
        "print('total images in train/category2:', len(os.listdir(train_cat2_dir)))\n",
        "print('total images in train/category3:', len(os.listdir(train_cat3_dir)))\n",
        "print('total images in train/category4:', len(os.listdir(train_cat4_dir)))"
      ],
      "execution_count": 8,
      "outputs": [
        {
          "output_type": "stream",
          "text": [
            "total images in train/category1: 103\n",
            "total images in train/category2: 107\n",
            "total images in train/category3: 112\n",
            "total images in train/category4: 119\n"
          ],
          "name": "stdout"
        }
      ]
    },
    {
      "cell_type": "code",
      "metadata": {
        "id": "geP2O-VHRjEi",
        "colab_type": "code",
        "colab": {}
      },
      "source": [
        "#Importing tensorflow,keras\n",
        "import tensorflow as tf\n",
        "from tensorflow import keras\n",
        "from tensorflow.keras.optimizers import RMSprop"
      ],
      "execution_count": 0,
      "outputs": []
    },
    {
      "cell_type": "code",
      "metadata": {
        "id": "VB4xrPVASLF3",
        "colab_type": "code",
        "outputId": "ea9ea4b5-aea5-48ae-f6f9-e4ca3f3603a7",
        "colab": {
          "base_uri": "https://localhost:8080/",
          "height": 106
        }
      },
      "source": [
        "#Defining the model with convolution layers\n",
        "def create_model():  \n",
        "  model = tf.keras.models.Sequential([\n",
        "    # Note the input shape is the desired size of the image 300x300 with 3 bytes color\n",
        "    # This is the first convolution\n",
        "    tf.keras.layers.Conv2D(16, (3,3), activation='relu', input_shape=(300, 300, 3)),\n",
        "    tf.keras.layers.MaxPooling2D(2, 2),\n",
        "    # The second convolution\n",
        "    tf.keras.layers.Conv2D(32, (3,3), activation='relu'),\n",
        "    tf.keras.layers.MaxPooling2D(2,2),\n",
        "    # The third convolution\n",
        "    tf.keras.layers.Conv2D(64, (3,3), activation='relu'),\n",
        "    tf.keras.layers.MaxPooling2D(2,2),\n",
        "    # The fourth convolution\n",
        "    tf.keras.layers.Conv2D(64, (3,3), activation='relu'),\n",
        "    tf.keras.layers.MaxPooling2D(2,2),\n",
        "    # The fifth convolution\n",
        "    tf.keras.layers.Conv2D(64, (3,3), activation='relu'),\n",
        "    tf.keras.layers.MaxPooling2D(2,2),\n",
        "    # Flatten the results to feed into a NN\n",
        "    tf.keras.layers.Flatten(),\n",
        "    # 512 neuron hidden layer\n",
        "    tf.keras.layers.Dense(512, activation='relu'),\n",
        "    # Softmax is a multiclass classifing activation function where the input is maped to the 4 classes in our case.\n",
        "    tf.keras.layers.Dense(4, activation='softmax')\n",
        "])\n",
        "  #Initializing model parameters\n",
        "  model.compile(loss='categorical_crossentropy',\n",
        "              optimizer=RMSprop(lr=0.0001),\n",
        "              metrics=['acc'])\n",
        "  return model\n",
        "\n",
        "model = create_model()"
      ],
      "execution_count": 10,
      "outputs": [
        {
          "output_type": "stream",
          "text": [
            "WARNING: Logging before flag parsing goes to stderr.\n",
            "W0817 17:57:38.541815 140582337546112 deprecation.py:506] From /usr/local/lib/python3.6/dist-packages/tensorflow/python/ops/init_ops.py:1251: calling VarianceScaling.__init__ (from tensorflow.python.ops.init_ops) with dtype is deprecated and will be removed in a future version.\n",
            "Instructions for updating:\n",
            "Call initializer instance with the dtype argument instead of passing it to the constructor\n"
          ],
          "name": "stderr"
        }
      ]
    },
    {
      "cell_type": "code",
      "metadata": {
        "id": "2uMaW7WeTThn",
        "colab_type": "code",
        "outputId": "44fd43b8-b607-4038-a756-251d42331270",
        "colab": {
          "base_uri": "https://localhost:8080/",
          "height": 607
        }
      },
      "source": [
        "model.summary()"
      ],
      "execution_count": 11,
      "outputs": [
        {
          "output_type": "stream",
          "text": [
            "Model: \"sequential\"\n",
            "_________________________________________________________________\n",
            "Layer (type)                 Output Shape              Param #   \n",
            "=================================================================\n",
            "conv2d (Conv2D)              (None, 298, 298, 16)      448       \n",
            "_________________________________________________________________\n",
            "max_pooling2d (MaxPooling2D) (None, 149, 149, 16)      0         \n",
            "_________________________________________________________________\n",
            "conv2d_1 (Conv2D)            (None, 147, 147, 32)      4640      \n",
            "_________________________________________________________________\n",
            "max_pooling2d_1 (MaxPooling2 (None, 73, 73, 32)        0         \n",
            "_________________________________________________________________\n",
            "conv2d_2 (Conv2D)            (None, 71, 71, 64)        18496     \n",
            "_________________________________________________________________\n",
            "max_pooling2d_2 (MaxPooling2 (None, 35, 35, 64)        0         \n",
            "_________________________________________________________________\n",
            "conv2d_3 (Conv2D)            (None, 33, 33, 64)        36928     \n",
            "_________________________________________________________________\n",
            "max_pooling2d_3 (MaxPooling2 (None, 16, 16, 64)        0         \n",
            "_________________________________________________________________\n",
            "conv2d_4 (Conv2D)            (None, 14, 14, 64)        36928     \n",
            "_________________________________________________________________\n",
            "max_pooling2d_4 (MaxPooling2 (None, 7, 7, 64)          0         \n",
            "_________________________________________________________________\n",
            "flatten (Flatten)            (None, 3136)              0         \n",
            "_________________________________________________________________\n",
            "dense (Dense)                (None, 512)               1606144   \n",
            "_________________________________________________________________\n",
            "dense_1 (Dense)              (None, 4)                 2052      \n",
            "=================================================================\n",
            "Total params: 1,705,636\n",
            "Trainable params: 1,705,636\n",
            "Non-trainable params: 0\n",
            "_________________________________________________________________\n"
          ],
          "name": "stdout"
        }
      ]
    },
    {
      "cell_type": "code",
      "metadata": {
        "id": "nbV6m-HUT-Zz",
        "colab_type": "code",
        "outputId": "eb938c9f-4857-482b-879f-35feba7d77e0",
        "colab": {
          "base_uri": "https://localhost:8080/",
          "height": 34
        }
      },
      "source": [
        "from tensorflow.keras.preprocessing.image import ImageDataGenerator\n",
        "\n",
        "# All images will be rescaled by 1./255\n",
        "train_datagen = ImageDataGenerator(rescale=1/255)\n",
        "\n",
        "# Flow training images in batches of 64 using train_datagen generator\n",
        "train_generator = train_datagen.flow_from_directory(\n",
        "        '/content/assignment1/Image_2/Input/Dataset/train/',  # This is the source directory for training images\n",
        "        target_size=(300, 300),  # All images will be resized to 150x150\n",
        "        batch_size=64,\n",
        "        # Since we use categorical_crossentopy loss, we need to use class_mode categorical\n",
        "        class_mode='categorical')\n"
      ],
      "execution_count": 12,
      "outputs": [
        {
          "output_type": "stream",
          "text": [
            "Found 440 images belonging to 4 classes.\n"
          ],
          "name": "stdout"
        }
      ]
    },
    {
      "cell_type": "code",
      "metadata": {
        "id": "JV9dTxj0UnHe",
        "colab_type": "code",
        "outputId": "799e8777-83fd-4e67-88e3-b52f1ef579e8",
        "colab": {
          "base_uri": "https://localhost:8080/",
          "height": 402
        }
      },
      "source": [
        "#Training the model for 30 epochs and 10 iterations for ech epoch with a batch-size 64 and learning rate 0.0001\n",
        "history = model.fit_generator(\n",
        "      train_generator,\n",
        "      steps_per_epoch=10,  \n",
        "      epochs=30,\n",
        "      verbose=1)\n",
        "model.save('/content/my_model.h5')"
      ],
      "execution_count": 0,
      "outputs": [
        {
          "output_type": "stream",
          "text": [
            "Epoch 1/30\n"
          ],
          "name": "stdout"
        },
        {
          "output_type": "error",
          "ename": "KeyboardInterrupt",
          "evalue": "ignored",
          "traceback": [
            "\u001b[0;31m---------------------------------------------------------------------------\u001b[0m",
            "\u001b[0;31mKeyboardInterrupt\u001b[0m                         Traceback (most recent call last)",
            "\u001b[0;32m<ipython-input-12-96b149825dc8>\u001b[0m in \u001b[0;36m<module>\u001b[0;34m()\u001b[0m\n\u001b[1;32m      3\u001b[0m       \u001b[0msteps_per_epoch\u001b[0m\u001b[0;34m=\u001b[0m\u001b[0;36m10\u001b[0m\u001b[0;34m,\u001b[0m\u001b[0;34m\u001b[0m\u001b[0;34m\u001b[0m\u001b[0m\n\u001b[1;32m      4\u001b[0m       \u001b[0mepochs\u001b[0m\u001b[0;34m=\u001b[0m\u001b[0;36m30\u001b[0m\u001b[0;34m,\u001b[0m\u001b[0;34m\u001b[0m\u001b[0;34m\u001b[0m\u001b[0m\n\u001b[0;32m----> 5\u001b[0;31m       verbose=1)\n\u001b[0m\u001b[1;32m      6\u001b[0m \u001b[0mmodel\u001b[0m\u001b[0;34m.\u001b[0m\u001b[0msave\u001b[0m\u001b[0;34m(\u001b[0m\u001b[0;34m'/content/my_model.h5'\u001b[0m\u001b[0;34m)\u001b[0m\u001b[0;34m\u001b[0m\u001b[0;34m\u001b[0m\u001b[0m\n",
            "\u001b[0;32m/usr/local/lib/python3.6/dist-packages/tensorflow/python/keras/engine/training.py\u001b[0m in \u001b[0;36mfit_generator\u001b[0;34m(self, generator, steps_per_epoch, epochs, verbose, callbacks, validation_data, validation_steps, validation_freq, class_weight, max_queue_size, workers, use_multiprocessing, shuffle, initial_epoch)\u001b[0m\n\u001b[1;32m   1431\u001b[0m         \u001b[0mshuffle\u001b[0m\u001b[0;34m=\u001b[0m\u001b[0mshuffle\u001b[0m\u001b[0;34m,\u001b[0m\u001b[0;34m\u001b[0m\u001b[0;34m\u001b[0m\u001b[0m\n\u001b[1;32m   1432\u001b[0m         \u001b[0minitial_epoch\u001b[0m\u001b[0;34m=\u001b[0m\u001b[0minitial_epoch\u001b[0m\u001b[0;34m,\u001b[0m\u001b[0;34m\u001b[0m\u001b[0;34m\u001b[0m\u001b[0m\n\u001b[0;32m-> 1433\u001b[0;31m         steps_name='steps_per_epoch')\n\u001b[0m\u001b[1;32m   1434\u001b[0m \u001b[0;34m\u001b[0m\u001b[0m\n\u001b[1;32m   1435\u001b[0m   def evaluate_generator(self,\n",
            "\u001b[0;32m/usr/local/lib/python3.6/dist-packages/tensorflow/python/keras/engine/training_generator.py\u001b[0m in \u001b[0;36mmodel_iteration\u001b[0;34m(model, data, steps_per_epoch, epochs, verbose, callbacks, validation_data, validation_steps, validation_freq, class_weight, max_queue_size, workers, use_multiprocessing, shuffle, initial_epoch, mode, batch_size, steps_name, **kwargs)\u001b[0m\n\u001b[1;32m    262\u001b[0m \u001b[0;34m\u001b[0m\u001b[0m\n\u001b[1;32m    263\u001b[0m       \u001b[0mis_deferred\u001b[0m \u001b[0;34m=\u001b[0m \u001b[0;32mnot\u001b[0m \u001b[0mmodel\u001b[0m\u001b[0;34m.\u001b[0m\u001b[0m_is_compiled\u001b[0m\u001b[0;34m\u001b[0m\u001b[0;34m\u001b[0m\u001b[0m\n\u001b[0;32m--> 264\u001b[0;31m       \u001b[0mbatch_outs\u001b[0m \u001b[0;34m=\u001b[0m \u001b[0mbatch_function\u001b[0m\u001b[0;34m(\u001b[0m\u001b[0;34m*\u001b[0m\u001b[0mbatch_data\u001b[0m\u001b[0;34m)\u001b[0m\u001b[0;34m\u001b[0m\u001b[0;34m\u001b[0m\u001b[0m\n\u001b[0m\u001b[1;32m    265\u001b[0m       \u001b[0;32mif\u001b[0m \u001b[0;32mnot\u001b[0m \u001b[0misinstance\u001b[0m\u001b[0;34m(\u001b[0m\u001b[0mbatch_outs\u001b[0m\u001b[0;34m,\u001b[0m \u001b[0mlist\u001b[0m\u001b[0;34m)\u001b[0m\u001b[0;34m:\u001b[0m\u001b[0;34m\u001b[0m\u001b[0;34m\u001b[0m\u001b[0m\n\u001b[1;32m    266\u001b[0m         \u001b[0mbatch_outs\u001b[0m \u001b[0;34m=\u001b[0m \u001b[0;34m[\u001b[0m\u001b[0mbatch_outs\u001b[0m\u001b[0;34m]\u001b[0m\u001b[0;34m\u001b[0m\u001b[0;34m\u001b[0m\u001b[0m\n",
            "\u001b[0;32m/usr/local/lib/python3.6/dist-packages/tensorflow/python/keras/engine/training.py\u001b[0m in \u001b[0;36mtrain_on_batch\u001b[0;34m(self, x, y, sample_weight, class_weight, reset_metrics)\u001b[0m\n\u001b[1;32m   1173\u001b[0m       \u001b[0mself\u001b[0m\u001b[0;34m.\u001b[0m\u001b[0m_update_sample_weight_modes\u001b[0m\u001b[0;34m(\u001b[0m\u001b[0msample_weights\u001b[0m\u001b[0;34m=\u001b[0m\u001b[0msample_weights\u001b[0m\u001b[0;34m)\u001b[0m\u001b[0;34m\u001b[0m\u001b[0;34m\u001b[0m\u001b[0m\n\u001b[1;32m   1174\u001b[0m       \u001b[0mself\u001b[0m\u001b[0;34m.\u001b[0m\u001b[0m_make_train_function\u001b[0m\u001b[0;34m(\u001b[0m\u001b[0;34m)\u001b[0m\u001b[0;34m\u001b[0m\u001b[0;34m\u001b[0m\u001b[0m\n\u001b[0;32m-> 1175\u001b[0;31m       \u001b[0moutputs\u001b[0m \u001b[0;34m=\u001b[0m \u001b[0mself\u001b[0m\u001b[0;34m.\u001b[0m\u001b[0mtrain_function\u001b[0m\u001b[0;34m(\u001b[0m\u001b[0mins\u001b[0m\u001b[0;34m)\u001b[0m  \u001b[0;31m# pylint: disable=not-callable\u001b[0m\u001b[0;34m\u001b[0m\u001b[0;34m\u001b[0m\u001b[0m\n\u001b[0m\u001b[1;32m   1176\u001b[0m \u001b[0;34m\u001b[0m\u001b[0m\n\u001b[1;32m   1177\u001b[0m     \u001b[0;32mif\u001b[0m \u001b[0mreset_metrics\u001b[0m\u001b[0;34m:\u001b[0m\u001b[0;34m\u001b[0m\u001b[0;34m\u001b[0m\u001b[0m\n",
            "\u001b[0;32m/usr/local/lib/python3.6/dist-packages/tensorflow/python/keras/backend.py\u001b[0m in \u001b[0;36m__call__\u001b[0;34m(self, inputs)\u001b[0m\n\u001b[1;32m   3290\u001b[0m \u001b[0;34m\u001b[0m\u001b[0m\n\u001b[1;32m   3291\u001b[0m     fetched = self._callable_fn(*array_vals,\n\u001b[0;32m-> 3292\u001b[0;31m                                 run_metadata=self.run_metadata)\n\u001b[0m\u001b[1;32m   3293\u001b[0m     \u001b[0mself\u001b[0m\u001b[0;34m.\u001b[0m\u001b[0m_call_fetch_callbacks\u001b[0m\u001b[0;34m(\u001b[0m\u001b[0mfetched\u001b[0m\u001b[0;34m[\u001b[0m\u001b[0;34m-\u001b[0m\u001b[0mlen\u001b[0m\u001b[0;34m(\u001b[0m\u001b[0mself\u001b[0m\u001b[0;34m.\u001b[0m\u001b[0m_fetches\u001b[0m\u001b[0;34m)\u001b[0m\u001b[0;34m:\u001b[0m\u001b[0;34m]\u001b[0m\u001b[0;34m)\u001b[0m\u001b[0;34m\u001b[0m\u001b[0;34m\u001b[0m\u001b[0m\n\u001b[1;32m   3294\u001b[0m     output_structure = nest.pack_sequence_as(\n",
            "\u001b[0;32m/usr/local/lib/python3.6/dist-packages/tensorflow/python/client/session.py\u001b[0m in \u001b[0;36m__call__\u001b[0;34m(self, *args, **kwargs)\u001b[0m\n\u001b[1;32m   1456\u001b[0m         ret = tf_session.TF_SessionRunCallable(self._session._session,\n\u001b[1;32m   1457\u001b[0m                                                \u001b[0mself\u001b[0m\u001b[0;34m.\u001b[0m\u001b[0m_handle\u001b[0m\u001b[0;34m,\u001b[0m \u001b[0margs\u001b[0m\u001b[0;34m,\u001b[0m\u001b[0;34m\u001b[0m\u001b[0;34m\u001b[0m\u001b[0m\n\u001b[0;32m-> 1458\u001b[0;31m                                                run_metadata_ptr)\n\u001b[0m\u001b[1;32m   1459\u001b[0m         \u001b[0;32mif\u001b[0m \u001b[0mrun_metadata\u001b[0m\u001b[0;34m:\u001b[0m\u001b[0;34m\u001b[0m\u001b[0;34m\u001b[0m\u001b[0m\n\u001b[1;32m   1460\u001b[0m           \u001b[0mproto_data\u001b[0m \u001b[0;34m=\u001b[0m \u001b[0mtf_session\u001b[0m\u001b[0;34m.\u001b[0m\u001b[0mTF_GetBuffer\u001b[0m\u001b[0;34m(\u001b[0m\u001b[0mrun_metadata_ptr\u001b[0m\u001b[0;34m)\u001b[0m\u001b[0;34m\u001b[0m\u001b[0;34m\u001b[0m\u001b[0m\n",
            "\u001b[0;31mKeyboardInterrupt\u001b[0m: "
          ]
        }
      ]
    },
    {
      "cell_type": "markdown",
      "metadata": {
        "id": "92lSY2KLlUbA",
        "colab_type": "text"
      },
      "source": [
        "### CNN Model is able to achieve an accuracy >0.99"
      ]
    },
    {
      "cell_type": "code",
      "metadata": {
        "id": "RIbXwXh7F5Mo",
        "colab_type": "code",
        "outputId": "886fcf5b-9eca-46b1-8fb0-a916f1f32667",
        "colab": {
          "base_uri": "https://localhost:8080/",
          "height": 732
        }
      },
      "source": [
        "\n",
        "#This is the trained model saved as a model-file after training the above model for 30 epochs. You can use this model file without training\n",
        "# If you want to train and test,run the above block and wait till the model trains for 30 epochs and skip this block\n",
        "model = keras.models.load_model('/content/assignment1/my_model.h5')\n",
        "model.summary()"
      ],
      "execution_count": 13,
      "outputs": [
        {
          "output_type": "stream",
          "text": [
            "W0817 17:57:48.878882 140582337546112 deprecation.py:506] From /usr/local/lib/python3.6/dist-packages/tensorflow/python/ops/init_ops.py:97: calling GlorotUniform.__init__ (from tensorflow.python.ops.init_ops) with dtype is deprecated and will be removed in a future version.\n",
            "Instructions for updating:\n",
            "Call initializer instance with the dtype argument instead of passing it to the constructor\n",
            "W0817 17:57:48.881593 140582337546112 deprecation.py:506] From /usr/local/lib/python3.6/dist-packages/tensorflow/python/ops/init_ops.py:97: calling Zeros.__init__ (from tensorflow.python.ops.init_ops) with dtype is deprecated and will be removed in a future version.\n",
            "Instructions for updating:\n",
            "Call initializer instance with the dtype argument instead of passing it to the constructor\n"
          ],
          "name": "stderr"
        },
        {
          "output_type": "stream",
          "text": [
            "Model: \"sequential_7\"\n",
            "_________________________________________________________________\n",
            "Layer (type)                 Output Shape              Param #   \n",
            "=================================================================\n",
            "conv2d_35 (Conv2D)           (None, 298, 298, 16)      448       \n",
            "_________________________________________________________________\n",
            "max_pooling2d_35 (MaxPooling (None, 149, 149, 16)      0         \n",
            "_________________________________________________________________\n",
            "conv2d_36 (Conv2D)           (None, 147, 147, 32)      4640      \n",
            "_________________________________________________________________\n",
            "max_pooling2d_36 (MaxPooling (None, 73, 73, 32)        0         \n",
            "_________________________________________________________________\n",
            "conv2d_37 (Conv2D)           (None, 71, 71, 64)        18496     \n",
            "_________________________________________________________________\n",
            "max_pooling2d_37 (MaxPooling (None, 35, 35, 64)        0         \n",
            "_________________________________________________________________\n",
            "conv2d_38 (Conv2D)           (None, 33, 33, 64)        36928     \n",
            "_________________________________________________________________\n",
            "max_pooling2d_38 (MaxPooling (None, 16, 16, 64)        0         \n",
            "_________________________________________________________________\n",
            "conv2d_39 (Conv2D)           (None, 14, 14, 64)        36928     \n",
            "_________________________________________________________________\n",
            "max_pooling2d_39 (MaxPooling (None, 7, 7, 64)          0         \n",
            "_________________________________________________________________\n",
            "flatten_7 (Flatten)          (None, 3136)              0         \n",
            "_________________________________________________________________\n",
            "dense_14 (Dense)             (None, 512)               1606144   \n",
            "_________________________________________________________________\n",
            "dense_15 (Dense)             (None, 4)                 2052      \n",
            "=================================================================\n",
            "Total params: 1,705,636\n",
            "Trainable params: 1,705,636\n",
            "Non-trainable params: 0\n",
            "_________________________________________________________________\n"
          ],
          "name": "stdout"
        }
      ]
    },
    {
      "cell_type": "code",
      "metadata": {
        "id": "zjtRmGwqVbNi",
        "colab_type": "code",
        "outputId": "04d734d3-6c74-45d8-ba2b-95f047e644d2",
        "colab": {
          "base_uri": "https://localhost:8080/",
          "height": 573
        }
      },
      "source": [
        "#This block of code runs on the test folder and predicts the output category for each image\n",
        "import numpy as np\n",
        "from google.colab import files\n",
        "from keras.preprocessing import image\n",
        "import pandas as pd\n",
        "\n",
        "result = pd.read_csv('/content/assignment1/Image_2/Output/results.csv') #Result.csv is loaded as data_frame\n",
        "\n",
        "test_dir = os.path.join('/content/assignment1/Image_2/Input/Dataset/test/') #Test data is loaded\n",
        "test_dir_set = os.listdir(test_dir)\n",
        "test_dir_set.remove('.DS_Store')# This removes the noise in test data\n",
        "category = ['category1','category2','category3','category4']\n",
        "count=0\n",
        "#For-Loop runs on the test data and write the data-frame with image _name and category class\n",
        "for fn in test_dir_set:\n",
        "  path = '/content/assignment1/Image_2/Input/Dataset/test/' + fn\n",
        "  img = image.load_img(path, target_size=(300, 300))\n",
        "  x = image.img_to_array(img)\n",
        "  x = np.expand_dims(x, axis=0)\n",
        "\n",
        "  images = np.vstack([x])\n",
        "  classes = model.predict(images, batch_size=10)\n",
        "  \n",
        "  if classes[0][0]==1:\n",
        "    result.loc[count] = [fn]+[category[0]]\n",
        "    print(fn+' ==> '+category[0])\n",
        "    count = count+1\n",
        "    continue\n",
        "  if classes[0][1]==1:\n",
        "    result.loc[count] = [fn]+[category[1]]\n",
        "    print(fn+' ==> '+category[1])\n",
        "    count=count+1\n",
        "    continue\n",
        "  if classes[0][2]==1:\n",
        "    result.loc[count] = [fn]+[category[2]]\n",
        "    print(fn+' ==> '+category[2])\n",
        "    count=count+1\n",
        "    continue\n",
        "  if classes[0][3]==1:\n",
        "    result.loc[count] = [fn]+[category[3]]\n",
        "    print(fn+' ==> '+category[3])\n",
        "    count=count+1\n",
        "    continue\n",
        "print(\"Total Images Classified from test folder: \"+str(count))    \n",
        "   "
      ],
      "execution_count": 14,
      "outputs": [
        {
          "output_type": "stream",
          "text": [
            "Using TensorFlow backend.\n"
          ],
          "name": "stderr"
        },
        {
          "output_type": "stream",
          "text": [
            "Test_original_C053.png_e7d20702-793e-4207-b174-a8042c05ac3d.png ==> category4\n",
            "6053.png ==> category2\n",
            "Test_original_6052.png_9950e35a-38c7-4388-b391-ce50bb8ea1a7.png ==> category2\n",
            "4043.png ==> category3\n",
            "6052.png ==> category2\n",
            "Test_original_6052.png_51c87ecf-ede6-4152-960f-4d56ff913d53.png ==> category2\n",
            "4050.png ==> category3\n",
            "Test_original_4052.png_209d62b3-92ce-4e4d-8006-cf63a40088a4.png ==> category3\n",
            "Test_original_6053.png_445dbbe1-4b09-4d56-aede-ab1695664ead.png ==> category2\n",
            "Test_original_6053.png_c34c8352-0830-4853-81ce-3ea5ecf82313.png ==> category2\n",
            "4052.png ==> category3\n",
            "Test_original_1052.png_22a82512-5b1f-4072-a4af-9a8af40653f0.png ==> category1\n",
            "Test_original_4052.png_78b7cca7-2a16-4f3c-829d-e4937b5f2dc2.png ==> category3\n",
            "Test_original_1052.png_b95bc311-bae0-48a7-8b9f-d0eddf1ddf2b.png ==> category1\n",
            "4051.png ==> category3\n",
            "C053.png ==> category4\n",
            "Test_original_C053.png_84d8e7c9-490f-4579-b9a9-501a8ca02cfe.png ==> category4\n",
            "C052.png ==> category4\n",
            "1052.png ==> category1\n",
            "1051.png ==> category1\n",
            "Test_original_C052.png_5c226e55-09ba-4fd0-bf6b-e0d2b411baa3.png ==> category4\n",
            "Test_original_4052.png_31cd9a66-9edc-4445-b4bc-9b0239b342e0.png ==> category3\n",
            "Test_original_6053.png_16f2063e-9590-4ae5-b7f9-7f23c8cfa654.png ==> category2\n",
            "Test_original_4043.png_fffcbc29-3aff-40c0-bdf9-2c12fa6df60b.png ==> category3\n",
            "Test_original_4052.png_a2ba34f8-9e8b-4b2d-ad89-612c261a9654.png ==> category3\n",
            "Test_original_6053.png_62171105-bdaa-4eb5-b5e7-9b0fb7914715.png ==> category2\n",
            "Test_original_4051.png_b90a2ba4-87c6-41e6-ad67-0e0d2e83478c.png ==> category3\n",
            "Test_original_6052.png_25bb57e2-b542-47c3-9abb-a1f7c7179ee6.png ==> category2\n",
            "Test_original_4043.png_615f9058-5c5c-4430-9f11-debd66f8a19a.png ==> category3\n",
            "Test_original_1051.png_271f7fb1-f0ab-4ca7-9dae-a352fd0ed8b9.png ==> category1\n",
            "Total Images Classified from test folder: 30\n"
          ],
          "name": "stdout"
        }
      ]
    },
    {
      "cell_type": "code",
      "metadata": {
        "id": "sqVo17JQo66O",
        "colab_type": "code",
        "outputId": "4ca69f61-aaca-4f8b-8673-8d844463e946",
        "colab": {
          "base_uri": "https://localhost:8080/",
          "height": 990
        }
      },
      "source": [
        "#Output data frame after performing classification on the test_data\n",
        "result"
      ],
      "execution_count": 15,
      "outputs": [
        {
          "output_type": "execute_result",
          "data": {
            "text/html": [
              "<div>\n",
              "<style scoped>\n",
              "    .dataframe tbody tr th:only-of-type {\n",
              "        vertical-align: middle;\n",
              "    }\n",
              "\n",
              "    .dataframe tbody tr th {\n",
              "        vertical-align: top;\n",
              "    }\n",
              "\n",
              "    .dataframe thead th {\n",
              "        text-align: right;\n",
              "    }\n",
              "</style>\n",
              "<table border=\"1\" class=\"dataframe\">\n",
              "  <thead>\n",
              "    <tr style=\"text-align: right;\">\n",
              "      <th></th>\n",
              "      <th>imageId</th>\n",
              "      <th>predicted_labels</th>\n",
              "    </tr>\n",
              "  </thead>\n",
              "  <tbody>\n",
              "    <tr>\n",
              "      <th>0</th>\n",
              "      <td>Test_original_C053.png_e7d20702-793e-4207-b174...</td>\n",
              "      <td>category4</td>\n",
              "    </tr>\n",
              "    <tr>\n",
              "      <th>1</th>\n",
              "      <td>6053.png</td>\n",
              "      <td>category2</td>\n",
              "    </tr>\n",
              "    <tr>\n",
              "      <th>2</th>\n",
              "      <td>Test_original_6052.png_9950e35a-38c7-4388-b391...</td>\n",
              "      <td>category2</td>\n",
              "    </tr>\n",
              "    <tr>\n",
              "      <th>3</th>\n",
              "      <td>4043.png</td>\n",
              "      <td>category3</td>\n",
              "    </tr>\n",
              "    <tr>\n",
              "      <th>4</th>\n",
              "      <td>6052.png</td>\n",
              "      <td>category2</td>\n",
              "    </tr>\n",
              "    <tr>\n",
              "      <th>5</th>\n",
              "      <td>Test_original_6052.png_51c87ecf-ede6-4152-960f...</td>\n",
              "      <td>category2</td>\n",
              "    </tr>\n",
              "    <tr>\n",
              "      <th>6</th>\n",
              "      <td>4050.png</td>\n",
              "      <td>category3</td>\n",
              "    </tr>\n",
              "    <tr>\n",
              "      <th>7</th>\n",
              "      <td>Test_original_4052.png_209d62b3-92ce-4e4d-8006...</td>\n",
              "      <td>category3</td>\n",
              "    </tr>\n",
              "    <tr>\n",
              "      <th>8</th>\n",
              "      <td>Test_original_6053.png_445dbbe1-4b09-4d56-aede...</td>\n",
              "      <td>category2</td>\n",
              "    </tr>\n",
              "    <tr>\n",
              "      <th>9</th>\n",
              "      <td>Test_original_6053.png_c34c8352-0830-4853-81ce...</td>\n",
              "      <td>category2</td>\n",
              "    </tr>\n",
              "    <tr>\n",
              "      <th>10</th>\n",
              "      <td>4052.png</td>\n",
              "      <td>category3</td>\n",
              "    </tr>\n",
              "    <tr>\n",
              "      <th>11</th>\n",
              "      <td>Test_original_1052.png_22a82512-5b1f-4072-a4af...</td>\n",
              "      <td>category1</td>\n",
              "    </tr>\n",
              "    <tr>\n",
              "      <th>12</th>\n",
              "      <td>Test_original_4052.png_78b7cca7-2a16-4f3c-829d...</td>\n",
              "      <td>category3</td>\n",
              "    </tr>\n",
              "    <tr>\n",
              "      <th>13</th>\n",
              "      <td>Test_original_1052.png_b95bc311-bae0-48a7-8b9f...</td>\n",
              "      <td>category1</td>\n",
              "    </tr>\n",
              "    <tr>\n",
              "      <th>14</th>\n",
              "      <td>4051.png</td>\n",
              "      <td>category3</td>\n",
              "    </tr>\n",
              "    <tr>\n",
              "      <th>15</th>\n",
              "      <td>C053.png</td>\n",
              "      <td>category4</td>\n",
              "    </tr>\n",
              "    <tr>\n",
              "      <th>16</th>\n",
              "      <td>Test_original_C053.png_84d8e7c9-490f-4579-b9a9...</td>\n",
              "      <td>category4</td>\n",
              "    </tr>\n",
              "    <tr>\n",
              "      <th>17</th>\n",
              "      <td>C052.png</td>\n",
              "      <td>category4</td>\n",
              "    </tr>\n",
              "    <tr>\n",
              "      <th>18</th>\n",
              "      <td>1052.png</td>\n",
              "      <td>category1</td>\n",
              "    </tr>\n",
              "    <tr>\n",
              "      <th>19</th>\n",
              "      <td>1051.png</td>\n",
              "      <td>category1</td>\n",
              "    </tr>\n",
              "    <tr>\n",
              "      <th>20</th>\n",
              "      <td>Test_original_C052.png_5c226e55-09ba-4fd0-bf6b...</td>\n",
              "      <td>category4</td>\n",
              "    </tr>\n",
              "    <tr>\n",
              "      <th>21</th>\n",
              "      <td>Test_original_4052.png_31cd9a66-9edc-4445-b4bc...</td>\n",
              "      <td>category3</td>\n",
              "    </tr>\n",
              "    <tr>\n",
              "      <th>22</th>\n",
              "      <td>Test_original_6053.png_16f2063e-9590-4ae5-b7f9...</td>\n",
              "      <td>category2</td>\n",
              "    </tr>\n",
              "    <tr>\n",
              "      <th>23</th>\n",
              "      <td>Test_original_4043.png_fffcbc29-3aff-40c0-bdf9...</td>\n",
              "      <td>category3</td>\n",
              "    </tr>\n",
              "    <tr>\n",
              "      <th>24</th>\n",
              "      <td>Test_original_4052.png_a2ba34f8-9e8b-4b2d-ad89...</td>\n",
              "      <td>category3</td>\n",
              "    </tr>\n",
              "    <tr>\n",
              "      <th>25</th>\n",
              "      <td>Test_original_6053.png_62171105-bdaa-4eb5-b5e7...</td>\n",
              "      <td>category2</td>\n",
              "    </tr>\n",
              "    <tr>\n",
              "      <th>26</th>\n",
              "      <td>Test_original_4051.png_b90a2ba4-87c6-41e6-ad67...</td>\n",
              "      <td>category3</td>\n",
              "    </tr>\n",
              "    <tr>\n",
              "      <th>27</th>\n",
              "      <td>Test_original_6052.png_25bb57e2-b542-47c3-9abb...</td>\n",
              "      <td>category2</td>\n",
              "    </tr>\n",
              "    <tr>\n",
              "      <th>28</th>\n",
              "      <td>Test_original_4043.png_615f9058-5c5c-4430-9f11...</td>\n",
              "      <td>category3</td>\n",
              "    </tr>\n",
              "    <tr>\n",
              "      <th>29</th>\n",
              "      <td>Test_original_1051.png_271f7fb1-f0ab-4ca7-9dae...</td>\n",
              "      <td>category1</td>\n",
              "    </tr>\n",
              "  </tbody>\n",
              "</table>\n",
              "</div>"
            ],
            "text/plain": [
              "                                              imageId predicted_labels\n",
              "0   Test_original_C053.png_e7d20702-793e-4207-b174...        category4\n",
              "1                                            6053.png        category2\n",
              "2   Test_original_6052.png_9950e35a-38c7-4388-b391...        category2\n",
              "3                                            4043.png        category3\n",
              "4                                            6052.png        category2\n",
              "5   Test_original_6052.png_51c87ecf-ede6-4152-960f...        category2\n",
              "6                                            4050.png        category3\n",
              "7   Test_original_4052.png_209d62b3-92ce-4e4d-8006...        category3\n",
              "8   Test_original_6053.png_445dbbe1-4b09-4d56-aede...        category2\n",
              "9   Test_original_6053.png_c34c8352-0830-4853-81ce...        category2\n",
              "10                                           4052.png        category3\n",
              "11  Test_original_1052.png_22a82512-5b1f-4072-a4af...        category1\n",
              "12  Test_original_4052.png_78b7cca7-2a16-4f3c-829d...        category3\n",
              "13  Test_original_1052.png_b95bc311-bae0-48a7-8b9f...        category1\n",
              "14                                           4051.png        category3\n",
              "15                                           C053.png        category4\n",
              "16  Test_original_C053.png_84d8e7c9-490f-4579-b9a9...        category4\n",
              "17                                           C052.png        category4\n",
              "18                                           1052.png        category1\n",
              "19                                           1051.png        category1\n",
              "20  Test_original_C052.png_5c226e55-09ba-4fd0-bf6b...        category4\n",
              "21  Test_original_4052.png_31cd9a66-9edc-4445-b4bc...        category3\n",
              "22  Test_original_6053.png_16f2063e-9590-4ae5-b7f9...        category2\n",
              "23  Test_original_4043.png_fffcbc29-3aff-40c0-bdf9...        category3\n",
              "24  Test_original_4052.png_a2ba34f8-9e8b-4b2d-ad89...        category3\n",
              "25  Test_original_6053.png_62171105-bdaa-4eb5-b5e7...        category2\n",
              "26  Test_original_4051.png_b90a2ba4-87c6-41e6-ad67...        category3\n",
              "27  Test_original_6052.png_25bb57e2-b542-47c3-9abb...        category2\n",
              "28  Test_original_4043.png_615f9058-5c5c-4430-9f11...        category3\n",
              "29  Test_original_1051.png_271f7fb1-f0ab-4ca7-9dae...        category1"
            ]
          },
          "metadata": {
            "tags": []
          },
          "execution_count": 15
        }
      ]
    },
    {
      "cell_type": "code",
      "metadata": {
        "id": "S6AT4G0cp1zk",
        "colab_type": "code",
        "colab": {}
      },
      "source": [
        "#Writes the data-frame to results.csv \n",
        "result.to_csv('/content/assignment1/Image_2/Output/results.csv',index=None,header=True)"
      ],
      "execution_count": 0,
      "outputs": []
    },
    {
      "cell_type": "code",
      "metadata": {
        "id": "OO8gmGgBVAxI",
        "colab_type": "code",
        "outputId": "c10af04b-b6f3-424b-c961-0f403b678631",
        "colab": {
          "resources": {
            "http://localhost:8080/nbextensions/google.colab/files.js": {
              "data": "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",
              "ok": true,
              "headers": [
                [
                  "content-type",
                  "application/javascript"
                ]
              ],
              "status": 200,
              "status_text": "OK"
            }
          },
          "base_uri": "https://localhost:8080/",
          "height": 111
        }
      },
      "source": [
        "#This block of code takes input image from the user and predicts the output category of the image.\n",
        "import numpy as np\n",
        "from google.colab import files\n",
        "from keras.preprocessing import image\n",
        "\n",
        "uploaded = files.upload()\n",
        "\n",
        "category = ['category1','category2','category3','category4']\n",
        "count=0\n",
        "for fn in uploaded.keys():\n",
        "  path = '/content/' + fn\n",
        "  img = image.load_img(path, target_size=(300, 300))\n",
        "  x = image.img_to_array(img)\n",
        "  x = np.expand_dims(x, axis=0)\n",
        "\n",
        "  images = np.vstack([x])\n",
        "  classes = model.predict(images, batch_size=10)\n",
        "  \n",
        "  if classes[0][0]==1:\n",
        "    print(fn+' ==> '+category[0])\n",
        "    count = count+1\n",
        "    continue\n",
        "  if classes[0][1]==1:\n",
        "    print(fn+' ==> '+category[1])\n",
        "    count=count+1\n",
        "    continue\n",
        "  if classes[0][2]==1:\n",
        "    print(fn+' ==> '+category[2])\n",
        "    count=count+1\n",
        "    continue\n",
        "  if classes[0][3]==1:\n",
        "    print(fn+' ==> '+category[3])\n",
        "    count=count+1\n",
        "    continue\n",
        "print(\"Total Images Classified from uploaded: \"+str(count))   \n",
        "\n",
        "#Some Times this may run into errors due  to session initialization,so rerun the block of code and it should work."
      ],
      "execution_count": 0,
      "outputs": [
        {
          "output_type": "display_data",
          "data": {
            "text/html": [
              "\n",
              "     <input type=\"file\" id=\"files-0a50e2de-96b4-409a-80c4-58b03f8e02e9\" name=\"files[]\" multiple disabled />\n",
              "     <output id=\"result-0a50e2de-96b4-409a-80c4-58b03f8e02e9\">\n",
              "      Upload widget is only available when the cell has been executed in the\n",
              "      current browser session. Please rerun this cell to enable.\n",
              "      </output>\n",
              "      <script src=\"/nbextensions/google.colab/files.js\"></script> "
            ],
            "text/plain": [
              "<IPython.core.display.HTML object>"
            ]
          },
          "metadata": {
            "tags": []
          }
        },
        {
          "output_type": "stream",
          "text": [
            "Saving C053.png to C053.png\n",
            "C053.png ==> category4\n",
            "Total Images Classified from uploaded: 1\n"
          ],
          "name": "stdout"
        }
      ]
    },
    {
      "cell_type": "code",
      "metadata": {
        "id": "o6E5aCm1m7Dr",
        "colab_type": "code",
        "colab": {}
      },
      "source": [
        ""
      ],
      "execution_count": 0,
      "outputs": []
    }
  ]
}